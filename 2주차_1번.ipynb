{
  "nbformat": 4,
  "nbformat_minor": 0,
  "metadata": {
    "colab": {
      "provenance": [],
      "authorship_tag": "ABX9TyNopty7sIMGUHKS7Qwte8YH",
      "include_colab_link": true
    },
    "kernelspec": {
      "name": "python3",
      "display_name": "Python 3"
    },
    "language_info": {
      "name": "python"
    }
  },
  "cells": [
    {
      "cell_type": "markdown",
      "metadata": {
        "id": "view-in-github",
        "colab_type": "text"
      },
      "source": [
        "<a href=\"https://colab.research.google.com/github/nsbssnmw/python/blob/main/2%EC%A3%BC%EC%B0%A8_1%EB%B2%88.ipynb\" target=\"_parent\"><img src=\"https://colab.research.google.com/assets/colab-badge.svg\" alt=\"Open In Colab\"/></a>"
      ]
    },
    {
      "cell_type": "code",
      "execution_count": null,
      "metadata": {
        "colab": {
          "base_uri": "https://localhost:8080/"
        },
        "id": "jkPzaEU_b120",
        "outputId": "9cdd9202-ed0c-4d41-9fc6-93ea1821caa6"
      },
      "outputs": [
        {
          "output_type": "stream",
          "name": "stdout",
          "text": [
            "자연수 한 개를입력하세요. 6\n",
            "계속입력을 원하시면, 자연수 한 개를입력하시고, 아니라면 0을입력하세요. 9\n",
            "계속입력을 원하시면, 자연수 한 개를입력하시고, 아니라면 0을입력하세요. 27\n",
            "계속입력을 원하시면, 자연수 한 개를입력하시고, 아니라면 0을입력하세요. 0\n",
            "[27, 9, 6]\n"
          ]
        }
      ],
      "source": [
        "limit = 100\n",
        "numbers = []\n",
        "first_time = True\n",
        "messages = {\n",
        "  'first': '자연수 한 개를입력하세요. ',\n",
        "  'after': '계속입력을 원하시면, 자연수 한 개를입력하시고, 아니라면 0을입력하세요. '\n",
        "}\n",
        "while True:\n",
        "  if len(numbers) >= limit:\n",
        "    print(f\"이제그만하세요. 벌써 {limit}개를 입력했어요.\")\n",
        "    break\n",
        "  try:\n",
        "    if first_time:\n",
        "      user_number = int(input(messages['first']))\n",
        "      first_time = False\n",
        "    else:\n",
        "      user_number = int(input(messages['after']))\n",
        "    if user_number == 0:\n",
        "      break\n",
        "    if user_number < 0:\n",
        "      raise ValueError\n",
        "    if len(numbers) == 0:\n",
        "      numbers.append(user_number)\n",
        "    else:\n",
        "      for i in range(len(numbers)):\n",
        "        if user_number > numbers[i]:\n",
        "          numbers.insert(i, user_number)\n",
        "          break\n",
        "        elif i == len(numbers) - 1:\n",
        "          numbers.append(user_number)\n",
        "          break\n",
        "  except ValueError:\n",
        "    print(\"자연수 형식의 값을 입력해주세요.\")\n",
        "\n",
        "print(numbers)"
      ]
    }
  ]
}