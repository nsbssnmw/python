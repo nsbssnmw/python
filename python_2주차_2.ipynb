{
  "nbformat": 4,
  "nbformat_minor": 0,
  "metadata": {
    "colab": {
      "provenance": [],
      "collapsed_sections": [],
      "authorship_tag": "ABX9TyPyGl5DT+zydqYNmXkPYcSF",
      "include_colab_link": true
    },
    "kernelspec": {
      "name": "python3",
      "display_name": "Python 3"
    },
    "language_info": {
      "name": "python"
    }
  },
  "cells": [
    {
      "cell_type": "markdown",
      "metadata": {
        "id": "view-in-github",
        "colab_type": "text"
      },
      "source": [
        "<a href=\"https://colab.research.google.com/github/nsbssnmw/python/blob/main/python_2%EC%A3%BC%EC%B0%A8_2.ipynb\" target=\"_parent\"><img src=\"https://colab.research.google.com/assets/colab-badge.svg\" alt=\"Open In Colab\"/></a>"
      ]
    },
    {
      "cell_type": "code",
      "execution_count": null,
      "metadata": {
        "colab": {
          "base_uri": "https://localhost:8080/"
        },
        "id": "1dXeIa33eBiJ",
        "outputId": "6e71ff28-0f5f-4a81-ab42-a9ad2dc2ca3d"
      },
      "outputs": [
        {
          "output_type": "stream",
          "name": "stdout",
          "text": [
            "숫자를 입력하세요: 6\n",
            "1\n",
            "*2\n",
            "**3\n",
            "***4\n",
            "****5\n",
            "*****6\n"
          ]
        }
      ],
      "source": [
        "number = int(input('숫자를 입력하세요: '))\n",
        "\n",
        "stars = \"\"\n",
        "\n",
        "if number <= 30:\n",
        "  while len(stars) < number:\n",
        "    output = f'{stars}{len(stars)+1}'\n",
        "    stars += \"*\"\n",
        "    print(output)\n",
        "else:\n",
        "  print('30이하의 숫자를 입력하세요.')"
      ]
    }
  ]
}